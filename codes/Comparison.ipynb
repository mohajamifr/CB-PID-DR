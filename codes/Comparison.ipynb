{
 "cells": [
  {
   "cell_type": "markdown",
   "metadata": {},
   "source": [
    "# Initalizing the problem"
   ]
  },
  {
   "cell_type": "code",
   "execution_count": 54,
   "metadata": {},
   "outputs": [],
   "source": [
    "import numpy as np\n",
    "from scipy.signal import butter, filtfilt\n",
    "import python_anesthesia_simulator as pas\n",
    "import matplotlib.pyplot as plt\n",
    "import random\n",
    "import pickle\n",
    "random.seed(15)\n",
    "np.random.seed(15)\n",
    "\n",
    "# load patient data\n",
    "with open('patients_data_1100.pkl', 'rb') as f:\n",
    "    patient_dic = pickle.load(f)\n",
    "\n",
    "# define output function\n",
    "def output(x, PD_par):\n",
    "  c50p, c50r, gamma, _, _, _ = PD_par\n",
    "  Up, Ur = x[3]/c50p, x[7]/c50r\n",
    "  U = np.abs(Up + Ur)\n",
    "  y = 97.4 * (1 - np.divide(U**gamma, 1 + U**gamma))\n",
    "  return y\n",
    "\n",
    "# define measurement noise\n",
    "class measurement_noise:\n",
    "    def __init__(self, num_samples, std_dev=3, cutoff=0.03, fs=1.0, order=2):\n",
    "        self.num_samples = num_samples\n",
    "        self.std_dev = std_dev\n",
    "        self.cutoff = cutoff\n",
    "        self.fs = fs\n",
    "        self.order = order\n",
    "\n",
    "    def generate_white_noise(self):\n",
    "        return np.random.normal(0, self.std_dev, self.num_samples)\n",
    "\n",
    "    def butter_lowpass_filter(self):\n",
    "        nyquist = 0.5 * self.fs\n",
    "        normal_cutoff = self.cutoff / nyquist\n",
    "        b, a = butter(self.order, normal_cutoff, btype='low', analog=False)\n",
    "        return b, a\n",
    "\n",
    "    def apply_filter(self, data):\n",
    "        b, a = self.butter_lowpass_filter()\n",
    "        return filtfilt(b, a, data)\n",
    "\n",
    "    def generate(self):\n",
    "        white_noise = self.generate_white_noise()\n",
    "        return self.apply_filter(white_noise)"
   ]
  },
  {
   "cell_type": "markdown",
   "metadata": {},
   "source": [
    "# Controller A"
   ]
  },
  {
   "cell_type": "markdown",
   "metadata": {},
   "source": [
    "## defining the controller"
   ]
  },
  {
   "cell_type": "code",
   "execution_count": 55,
   "metadata": {},
   "outputs": [],
   "source": [
    "class PID_A():\n",
    "    def __init__(self, Kp, Ti, Td, gamma_p, ts):\n",
    "        self.Kp = Kp\n",
    "        self.Ti = Ti\n",
    "        self.Td = Td\n",
    "        self.gamma_p = gamma_p\n",
    "        self.ts = ts\n",
    "        self.N = 5\n",
    "\n",
    "        self.last_error = 97.4 - 50 # initial error\n",
    "        self.integral_part = 0\n",
    "        self.derivative_part = 0\n",
    "        self.ratio = 2\n",
    "        self.Kp_history = []\n",
    "\n",
    "    def one_step(self, BIS, y_ref):\n",
    "        self.error = BIS - y_ref\n",
    "        self.integral_part += self.ts / self.Ti * self.error\n",
    "        self.derivative_part = (self.derivative_part * self.Td / self.N + self.Td * (self.error - self.last_error)) / (self.ts + self.Td / self.N)\n",
    "        \n",
    "        self.control_input = self.Kp * (self.error + self.integral_part + self.derivative_part)\n",
    "        up = self.control_input # propofol infusion\n",
    "        ur = self.control_input * self.ratio # remifentanil infusion\n",
    "\n",
    "        # adapt Kp\n",
    "        self.Kp += np.tanh(self.error) * self.gamma_p * self.error\n",
    "        self.Kp = np.clip(self.Kp, 1e-4, 1)\n",
    "        self.Kp_history.append(self.Kp)\n",
    "\n",
    "        # apply anti-windup\n",
    "        if ((up > 6.67 ) or (ur > 16.67)) or (((up > 6.67 ) or (ur > 16.67)) and (self.control_input * self.error >= 0)):\n",
    "            up, ur = min(6.67, up), min(16.67, ur)\n",
    "            self.integral_part -= self.ts / self.Ti * self.error # freeze the integral at its past value\n",
    "\n",
    "        if ((up < 0 ) or (ur < 0)) or (((up < 0 ) or (ur < 0)) and (self.control_input * self.error >= 0)):\n",
    "            up, ur = max(0, up), max(0, ur)\n",
    "            self.integral_part -= self.ts / self.Ti * self.error # freeze the integral at its past value\n",
    "        \n",
    "        control_signal = [np.clip(up, 0, 6.67), np.clip(ur, 0, 16.67)] # saturation blocks\n",
    "\n",
    "        self.last_error = self.error\n",
    "\n",
    "        return control_signal"
   ]
  },
  {
   "cell_type": "markdown",
   "metadata": {},
   "source": [
    "## defining the simulation function"
   ]
  },
  {
   "cell_type": "code",
   "execution_count": 56,
   "metadata": {},
   "outputs": [],
   "source": [
    "random.seed(15)\n",
    "np.random.seed(15)\n",
    "\n",
    "def pid_A_sim(Kp_i, Ti_i, Td_i, gamma_p_i, Kp_m, Ti_m, Td_m, t_sim, ts, patient_index, model_type='uncertain', noise=False):\n",
    "    Ad_nom, Bd_nom, Ad_pert, Bd_pert, _, PD_nom, PD_real, _ = patient_dic[f'patient_{patient_index+1}']\n",
    "    \n",
    "    # two PID controllers for induction and maintenance\n",
    "    pid_ind = PID_A(Kp=Kp_i, Ti=Ti_i, Td=Td_i, gamma_p = gamma_p_i, ts=ts)\n",
    "    pid_mnt = PID_A(Kp=Kp_m, Ti=Ti_m, Td=Td_m, gamma_p = 0, ts=ts)\n",
    "\n",
    "    # run the pid\n",
    "    u_pid = np.zeros((2, t_sim))\n",
    "    x_real = np.zeros(8)\n",
    "    x_nom = np.zeros(8)\n",
    "    y_meas = np.ones(t_sim)*97.4\n",
    "    y_clean = np.zeros(t_sim)\n",
    "    # y_clean is the actual BIS of the patient that we don't have access to in reality,\n",
    "    # not the measured one that is affected by noise. The measured BIS is used as a\n",
    "    # feedback to the controller. y_clean is used to study the actual effect of the\n",
    "    # control action on the BIS of the patient in the presence of noisy measurements.\n",
    "    Kp_hist = np.ones(600)\n",
    "\n",
    "    if noise == True:\n",
    "        noise = measurement_noise(t_sim).generate()\n",
    "    else:\n",
    "        noise = np.zeros(t_sim)\n",
    "\n",
    "    for k in range(t_sim):\n",
    "        if model_type == 'nominal':\n",
    "            y_clean[k] = output(x_nom, PD_nom) + pas.disturbances.compute_disturbances(k, 'step', 600, 1200)[0]\n",
    "        elif model_type == 'uncertain':\n",
    "            y_clean[k] = output(x_real, PD_real) + pas.disturbances.compute_disturbances(k, 'step', 600, 1200)[0]\n",
    "        y_meas[k] = np.clip(y_clean[k] + noise[k], 0, 100)\n",
    "        \n",
    "        if np.mod(k, ts) == 0:\n",
    "            if k >= 600:\n",
    "                delta = y_meas[k] - 50\n",
    "                if delta > 0:\n",
    "                    y_ref = np.clip(100 - y_meas[k], 40, 50)\n",
    "                else:\n",
    "                    y_ref = 50\n",
    "                u_pid[:, k] = pid_mnt.one_step(y_meas[k], y_ref)\n",
    "            else:\n",
    "                u_pid[:, k] = pid_ind.one_step(y_meas[k], 50)\n",
    "                Kp_hist[k] = pid_ind.Kp_history[-1]\n",
    "        else:\n",
    "            u_pid[:, k] = u_pid[:, k-1]\n",
    "            if k < 600:\n",
    "                Kp_hist[k] = Kp_hist[k-1]\n",
    "        x_real = Ad_pert @ x_real + Bd_pert @ u_pid[:, k]\n",
    "        x_nom = Ad_nom @ x_nom + Bd_nom @ u_pid[:, k]\n",
    "\n",
    "    return y_clean, u_pid, Kp_hist"
   ]
  },
  {
   "cell_type": "markdown",
   "metadata": {},
   "source": [
    "## running the controller"
   ]
  },
  {
   "cell_type": "code",
   "execution_count": 57,
   "metadata": {},
   "outputs": [
    {
     "data": {
      "image/png": "[encoded data removed]",
      "text/plain": [
       "<Figure size 640x480 with 1 Axes>"
      ]
     },
     "metadata": {},
     "output_type": "display_data"
    },
    {
     "data": {
      "image/png": "[encoded data removed]",
      "text/plain": [
       "<Figure size 640x480 with 1 Axes>"
      ]
     },
     "metadata": {},
     "output_type": "display_data"
    }
   ],
   "source": [
    "t_sim, ts = 1800, 5\n",
    "variables = [pid_A_sim(0.0102, 465, 26, 1.972e-5, 0.0602, 585, 10, t_sim, ts, k, model_type='uncertain', noise=True) for k in range(100, 1100)]\n",
    "nb_patients = 1100 - 100\n",
    "bis = np.zeros((nb_patients, t_sim))\n",
    "drug = np.zeros((nb_patients, 2, t_sim))\n",
    "Kp_evol = np.zeros((nb_patients, 600))\n",
    "\n",
    "for i in range(nb_patients):\n",
    "    bis[i] = variables[i][0]\n",
    "    drug[i] = variables[i][1]\n",
    "    Kp_evol[i] = variables[i][2]\n",
    "sleep = np.argmax(bis < 60, axis=1)\n",
    "bis_A = bis\n",
    "drug_A = drug\n",
    "\n",
    "# plotting the BIS\n",
    "mean = np.mean(bis, axis=0)\n",
    "std = np.std(bis, axis=0)\n",
    "plt.figure()\n",
    "time_in_minutes = np.arange(bis.shape[1]) / 60\n",
    "plt.plot(time_in_minutes, mean)\n",
    "plt.fill_between(time_in_minutes, mean - std, mean + std, alpha=0.3)\n",
    "plt.axhline(y=40, linestyle = '--')\n",
    "plt.axhline(y=50, linestyle = '--', color='grey')\n",
    "plt.axhline(y=60, linestyle = '--')\n",
    "plt.axvline(x=sleep.mean()/60, linestyle='--')\n",
    "plt.xlabel('Time (min)')\n",
    "plt.grid(True)\n",
    "plt.tight_layout()\n",
    "\n",
    "# plotting kp evolution in the induction phase\n",
    "mean_kp = np.mean(Kp_evol, axis=0)\n",
    "std_kp = np.std(Kp_evol, axis=0)\n",
    "plt.figure()\n",
    "plt.subplot(2, 1, 1)\n",
    "time_in_minutes_kp = np.arange(Kp_evol.shape[1]) / 60\n",
    "plt.plot(time_in_minutes_kp, mean_kp, label='mean')\n",
    "plt.fill_between(time_in_minutes_kp, mean_kp - std_kp, mean_kp + std_kp, alpha=0.3, label='std')\n",
    "plt.xlabel('Time (min)')\n",
    "plt.ylabel('Proportional Gain ($K_p$)')\n",
    "plt.legend(fontsize='large', loc='lower right')\n",
    "plt.grid(True)\n",
    "plt.tight_layout()\n",
    "# plt.savefig('kp_evol.pdf', bbox_inches='tight')"
   ]
  },
  {
   "cell_type": "markdown",
   "metadata": {},
   "source": [
    "## induction phase metrics"
   ]
  },
  {
   "cell_type": "code",
   "execution_count": 58,
   "metadata": {},
   "outputs": [],
   "source": [
    "# time to sleep\n",
    "tts = (sleep)/60\n",
    "tts_mean = tts.mean()\n",
    "tts_std = tts.std()\n",
    "\n",
    "# low bis time\n",
    "index = np.zeros((nb_patients, 600))\n",
    "for i in range(nb_patients):\n",
    "    for j in range(600):\n",
    "        if (bis[i, j] < 40):\n",
    "            index[i, j] = 1\n",
    "lbt = index.sum(axis=1)\n",
    "lbt_mean = lbt.mean()\n",
    "lbt_std = lbt.std()\n",
    "\n",
    "# lower bis value / bis nadir\n",
    "BIS_nadir = bis[:, :600].min(axis=1)\n",
    "BIS_nadir_mean = BIS_nadir.mean()\n",
    "BIS_nadir_std = BIS_nadir.std()\n",
    "\n",
    "# settling time 20\n",
    "st20 = np.zeros(1000)\n",
    "for i in range(1000):\n",
    "    for j in range(600-30):\n",
    "        window = bis[i][j:j+30]\n",
    "        if np.all((window >= 40)) and np.all((window <= 60)):\n",
    "            st20[i] = j\n",
    "            break\n",
    "st20 = st20/60\n",
    "st20_mean = st20.mean()\n",
    "st20_std = st20.std()\n",
    "\n",
    "# settling time 10\n",
    "st10 = np.zeros(1000)\n",
    "for i in range(1000):\n",
    "    for j in range(600-30):\n",
    "        window = bis[i][j:j+30]\n",
    "        if np.all((window >= 45)) and np.all((window <= 55)):\n",
    "            st10[i] = j\n",
    "            break\n",
    "st10 = st10/60\n",
    "st10_mean = st10.mean()\n",
    "st10_std = st10.std()\n",
    "\n",
    "# propofol volume\n",
    "weight = []\n",
    "weight += [patient_dic[f'patient_{k}'][4][2] for k in range(100, 1100)]\n",
    "weight = np.array(weight)[:, np.newaxis]\n",
    "propo = np.divide(drug[:, 0, :600], weight).sum(axis=1)\n",
    "propo_mean = propo.mean()\n",
    "propo_std = propo.std()\n",
    "\n",
    "# remifentanil volume\n",
    "remi = np.divide(drug[:, 1, :600], weight).sum(axis=1)\n",
    "remi_mean = remi.mean()\n",
    "remi_std = remi.std()"
   ]
  },
  {
   "cell_type": "code",
   "execution_count": 59,
   "metadata": {},
   "outputs": [
    {
     "name": "stdout",
     "output_type": "stream",
     "text": [
      "\n",
      "      Time to sleep: 1.73 ± 0.29 (in minutes)\n",
      "      Low BIS time: 0.18 ± 4.08 (in minutes)\n",
      "      BIS Nadir: 48.69 ± 1.09 (%)\n",
      "      Settling Time 20: 1.73 ± 0.29 (in minutes)\n",
      "      Settling Time 10: 2.20 ± 0.41 (in minutes)\n",
      "      Propofol volume: 1.90 ± 0.70 (in mg/kg)\n",
      "      Remifentanil volume: 3.80 ± 1.39 (in μg/kg)\n",
      "\n"
     ]
    }
   ],
   "source": [
    "print(f'''\n",
    "      Time to sleep: {tts_mean:.2f} ± {tts_std:.2f} (in minutes)\n",
    "      Low BIS time: {lbt_mean:.2f} ± {lbt_std:.2f} (in minutes)\n",
    "      BIS Nadir: {BIS_nadir_mean:.2f} ± {BIS_nadir_std:.2f} (%)\n",
    "      Settling Time 20: {st20_mean:.2f} ± {st20_std:.2f} (in minutes)\n",
    "      Settling Time 10: {st10_mean:.2f} ± {st10_std:.2f} (in minutes)\n",
    "      Propofol volume: {propo_mean:.2f} ± {propo_std:.2f} (in mg/kg)\n",
    "      Remifentanil volume: {remi_mean:.2f} ± {remi_std:.2f} (in μg/kg)\n",
    "''')"
   ]
  },
  {
   "cell_type": "markdown",
   "metadata": {},
   "source": [
    "## maintenance phase metrics"
   ]
  },
  {
   "cell_type": "code",
   "execution_count": 60,
   "metadata": {},
   "outputs": [],
   "source": [
    "# Integral Absolute Error\n",
    "IAE = np.sum(np.abs(bis[:, 600:] - 50), axis=1)\n",
    "IAE_mean = IAE.mean()\n",
    "IAE_std = IAE.std()\n",
    "\n",
    "# time out of range 20\n",
    "index = np.zeros((50, t_sim))\n",
    "for i in range(50):\n",
    "    for j in range(600, t_sim):\n",
    "        if (bis[i, j] < 40) or (bis[i, j] > 60):\n",
    "            index[i, j] = 1\n",
    "tor20 = index.sum(axis=1)\n",
    "tor20_mean = tor20.mean()\n",
    "tor20_std = tor20.std()\n",
    "\n",
    "# time out of range 10\n",
    "for i in range(50):\n",
    "    for j in range(600, t_sim):\n",
    "        if (bis[i, j] < 45) or (bis[i, j] > 55):\n",
    "            index[i, j] = 1\n",
    "tor10 = index.sum(axis=1)\n",
    "tor10_mean = tor10.mean()\n",
    "tor10_std = tor10.std()\n",
    "\n",
    "# lower BIS value\n",
    "bis_low = bis[:, 600:].min(axis=1)\n",
    "bis_low_mean = bis_low.mean()\n",
    "bis_low_std = bis_low.std()\n",
    "\n",
    "# higher BIS value\n",
    "bis_high = bis[:, 600:].max(axis=1)\n",
    "bis_high_mean = bis_high.mean()\n",
    "bis_high_std = bis_high.std()\n",
    "\n",
    "# recovery time\n",
    "index = np.zeros((nb_patients, 300))\n",
    "for i in range(nb_patients):\n",
    "    for j in range(600, 900):\n",
    "        if (bis[i, j] < 50):\n",
    "            index[i, j-600] = 1\n",
    "rt = index.sum(axis=1)\n",
    "rt_mean = rt.mean()\n",
    "rt_std = rt.std()\n",
    "\n",
    "# steady state error\n",
    "sse = (np.abs(bis[:, -300:] - 50)).mean(axis=1)\n",
    "sse_mean = sse.mean()\n",
    "sse_std = sse.std()\n",
    "\n",
    "# propo volume\n",
    "weight = []\n",
    "weight += [patient_dic[f'patient_{k}'][4][2] for k in range(100, 1100)]\n",
    "weight = np.array(weight)[:, np.newaxis]\n",
    "propo = np.divide(drug[:, 0, 600:], weight).sum(axis=1)\n",
    "propo_mean = propo.mean()\n",
    "propo_std = propo.std()\n",
    "\n",
    "# remi volume\n",
    "remi = np.divide(drug[:, 1, 600:], weight).sum(axis=1)\n",
    "remi_mean = remi.mean()\n",
    "remi_std = remi.std()"
   ]
  },
  {
   "cell_type": "code",
   "execution_count": 61,
   "metadata": {},
   "outputs": [
    {
     "name": "stdout",
     "output_type": "stream",
     "text": [
      "\n",
      "      IAE: 1833.10 +- 281.43 (CV: 0.15)\n",
      "      Time out of range 20: 7.98 +- 10.67 (in seconds)\n",
      "      Time out of range 10: 110.22 +- 29.17 (in seconds)\n",
      "      BIS low: 40.28 +- 0.68\n",
      "      BIS high: 59.31 +- 0.62\n",
      "      Recovery time: 48.82 +- 51.20 (in seconds)\n",
      "      steady state error: 0.59 +- 0.22\n",
      "      propo vol: 2.96 +- 1.20 (in mg/kg)\n",
      "      remi vol: 5.93 +- 2.41 (in μg/kg)\n",
      "\n"
     ]
    }
   ],
   "source": [
    "print(f'''\n",
    "      IAE: {IAE_mean:.2f} +- {IAE_std:.2f} (CV: {IAE_std/IAE_mean:.2f})\n",
    "      Time out of range 20: {tor20_mean:.2f} +- {tor20_std:.2f} (in seconds)\n",
    "      Time out of range 10: {tor10_mean:.2f} +- {tor10_std:.2f} (in seconds)\n",
    "      BIS low: {bis_low_mean:.2f} +- {bis_low_std:.2f}\n",
    "      BIS high: {bis_high_mean:.2f} +- {bis_high_std:.2f}\n",
    "      Recovery time: {rt_mean:.2f} +- {rt_std:.2f} (in seconds)\n",
    "      steady state error: {sse_mean:.2f} +- {sse_std:.2f}\n",
    "      propo vol: {propo_mean:.2f} +- {propo_std:.2f} (in mg/kg)\n",
    "      remi vol: {remi_mean:.2f} +- {remi_std:.2f} (in μg/kg)\n",
    "''')"
   ]
  },
  {
   "cell_type": "markdown",
   "metadata": {},
   "source": [
    "## worst case performance"
   ]
  },
  {
   "cell_type": "markdown",
   "metadata": {},
   "source": [
    "### induction"
   ]
  },
  {
   "cell_type": "code",
   "execution_count": 62,
   "metadata": {},
   "outputs": [],
   "source": [
    "# max low bis time\n",
    "lbt_max = lbt.max()\n",
    "\n",
    "# minimum bis value recorded\n",
    "bis_min = bis[:, :600].min()\n",
    "\n",
    "# cases below bis = 40\n",
    "index = []\n",
    "for i in range(1000):\n",
    "    if len(bis[i, :600][bis[i, :600] < 40]) > 0:\n",
    "        index.append(1)\n",
    "und_40 = len(index)\n",
    "\n",
    "# cases below bis = 45\n",
    "index = []\n",
    "for i in range(1000):\n",
    "    if len(bis[i, :600][bis[i, :600] < 45]) > 0:\n",
    "        index.append(1)\n",
    "und_45 = len(index)"
   ]
  },
  {
   "cell_type": "code",
   "execution_count": 63,
   "metadata": {},
   "outputs": [
    {
     "name": "stdout",
     "output_type": "stream",
     "text": [
      "\n",
      "      max lbt: 103.00 (in seconds)\n",
      "      bis min: 34.57\n",
      "      cases below 40: 2 cases\n",
      "      cases below 45: 8 cases \n",
      "\n"
     ]
    }
   ],
   "source": [
    "print(f'''\n",
    "      max lbt: {lbt_max:.2f} (in seconds)\n",
    "      bis min: {bis_min:.2f}\n",
    "      cases below 40: {und_40} cases\n",
    "      cases below 45: {und_45} cases \n",
    "''')"
   ]
  },
  {
   "cell_type": "markdown",
   "metadata": {},
   "source": [
    "### maintenance"
   ]
  },
  {
   "cell_type": "code",
   "execution_count": 64,
   "metadata": {},
   "outputs": [],
   "source": [
    "# cases below bis = 40\n",
    "index = []\n",
    "for i in range(1000):\n",
    "    if len(bis[i, 600:][bis[i, 600:] < 40]) > 0:\n",
    "        index.append(1)\n",
    "und_40 = len(index)\n",
    "\n",
    "# cases over bis = 60\n",
    "index = []\n",
    "for i in range(1000):\n",
    "    if len(bis[i, 600:][bis[i, 600:] > 60]) > 0:\n",
    "        index.append(1)\n",
    "ovr_60 = len(index)"
   ]
  },
  {
   "cell_type": "code",
   "execution_count": 65,
   "metadata": {},
   "outputs": [
    {
     "name": "stdout",
     "output_type": "stream",
     "text": [
      "\n",
      "      cases below 40: 304 cases\n",
      "      cases over 60: 128 cases \n",
      "\n"
     ]
    }
   ],
   "source": [
    "print(f'''\n",
    "      cases below 40: {und_40} cases\n",
    "      cases over 60: {ovr_60} cases \n",
    "''')"
   ]
  },
  {
   "cell_type": "markdown",
   "metadata": {},
   "source": [
    "# Controller B"
   ]
  },
  {
   "cell_type": "markdown",
   "metadata": {},
   "source": [
    "## defining the controller"
   ]
  },
  {
   "cell_type": "code",
   "execution_count": 66,
   "metadata": {},
   "outputs": [],
   "source": [
    "class PID_B():\n",
    "    def __init__(self, Kp, Ti, Td, ts):\n",
    "        self.Kp = Kp\n",
    "        self.Ti = Ti\n",
    "        self.Td = Td\n",
    "        self.ts = ts\n",
    "        self.N = 5\n",
    "\n",
    "        self.last_BIS = 97.4 # initial bis\n",
    "        # BIS - last_BIS is equivalent to error - last_error since the reference is fixed.\n",
    "        self.integral_part = 0\n",
    "        self.derivative_part = 0\n",
    "        self.ratio = 2\n",
    "\n",
    "    def one_step(self, BIS, y_ref):\n",
    "        self.error = BIS - y_ref\n",
    "        self.integral_part += self.ts / self.Ti * self.error\n",
    "        self.derivative_part = (self.derivative_part * self.Td / self.N + self.Td * (BIS - self.last_BIS)) / (self.ts + self.Td / self.N)\n",
    "        \n",
    "        self.control_input = self.Kp * (self.error + self.integral_part + self.derivative_part)\n",
    "        up = self.control_input # propofol infusion\n",
    "        ur = self.control_input * self.ratio # remifentanil infusion\n",
    "\n",
    "        # apply anti-windup\n",
    "        if ((up > 6.67 ) or (ur > 16.67)) or (((up > 6.67 ) or (ur > 16.67)) and (self.control_input * self.error >= 0)):\n",
    "            up, ur = min(6.67, up), min(16.67, ur)\n",
    "            self.integral_part -= self.ts / self.Ti * self.error # freeze the integral at its past value\n",
    "\n",
    "        if ((up < 0 ) or (ur < 0)) or (((up < 0 ) or (ur < 0)) and (self.control_input * self.error >= 0)):\n",
    "            up, ur = max(0, up), max(0, ur)\n",
    "            self.integral_part -= self.ts / self.Ti * self.error # freeze the integral at its past value\n",
    "        \n",
    "        control_signal = [np.clip(up, 0, 6.67), np.clip(ur, 0, 16.67)] # saturation blocks\n",
    "\n",
    "        self.last_BIS = BIS\n",
    "\n",
    "        return control_signal"
   ]
  },
  {
   "cell_type": "markdown",
   "metadata": {},
   "source": [
    "## defining the simulation function"
   ]
  },
  {
   "cell_type": "code",
   "execution_count": 67,
   "metadata": {},
   "outputs": [],
   "source": [
    "random.seed(15)\n",
    "np.random.seed(15)\n",
    "\n",
    "def pid_B_sim(Kp_i, Ti_i, Td_i, Kp_m, Ti_m, Td_m, t_sim, ts, patient_index, model_type='uncertain', noise=False):\n",
    "    Ad_nom, Bd_nom, Ad_pert, Bd_pert, _, PD_nom, PD_real, _ = patient_dic[f'patient_{patient_index+1}']\n",
    "    \n",
    "    # two PID controllers for induction and maintenance\n",
    "    pid_ind = PID_B(Kp=Kp_i, Ti=Ti_i, Td=Td_i, ts=ts)\n",
    "    pid_mnt = PID_B(Kp=Kp_m, Ti=Ti_m, Td=Td_m, ts=ts)\n",
    "\n",
    "    # run the pid\n",
    "    u_pid = np.zeros((2, t_sim))\n",
    "    x_real = np.zeros(8)\n",
    "    x_nom = np.zeros(8)\n",
    "    y_meas = np.ones(t_sim)*97.4\n",
    "    y_clean = np.zeros(t_sim)\n",
    "    # y_clean is the actual BIS of the patient that we don't have access to in reality,\n",
    "    # not the measured one that is affected by noise. The measured BIS is used as a\n",
    "    # feedback to the controller. y_clean is used to study the actual effect of the\n",
    "    # control action on the BIS of the patient in the presence of noisy measurements.\n",
    "\n",
    "    if noise == True:\n",
    "        noise = measurement_noise(t_sim).generate()\n",
    "    else:\n",
    "        noise = np.zeros(t_sim)\n",
    "\n",
    "    for k in range(t_sim):\n",
    "        if model_type == 'nominal':\n",
    "            y_clean[k] = output(x_nom, PD_nom) + pas.disturbances.compute_disturbances(k, 'step', 600, 1200)[0]\n",
    "        elif model_type == 'uncertain':\n",
    "            y_clean[k] = output(x_real, PD_real) + pas.disturbances.compute_disturbances(k, 'step', 600, 1200)[0]\n",
    "        y_meas[k] = np.clip(y_clean[k] + noise[k], 0, 100)\n",
    "        \n",
    "        if np.mod(k, ts) == 0:\n",
    "            if k >= 600:\n",
    "                u_pid[:, k] = pid_mnt.one_step(y_meas[k], 50)\n",
    "            else:\n",
    "                u_pid[:, k] = pid_ind.one_step(y_meas[k], 50)\n",
    "        else:\n",
    "            u_pid[:, k] = u_pid[:, k-1]\n",
    "        x_real = Ad_pert @ x_real + Bd_pert @ u_pid[:, k]\n",
    "        x_nom = Ad_nom @ x_nom + Bd_nom @ u_pid[:, k]\n",
    "\n",
    "    return y_clean, u_pid"
   ]
  },
  {
   "cell_type": "markdown",
   "metadata": {},
   "source": [
    "## running the controller"
   ]
  },
  {
   "cell_type": "code",
   "execution_count": 68,
   "metadata": {},
   "outputs": [
    {
     "data": {
      "image/png": "[encoded data removed]",
      "text/plain": [
       "<Figure size 640x480 with 1 Axes>"
      ]
     },
     "metadata": {},
     "output_type": "display_data"
    }
   ],
   "source": [
    "t_sim, ts = 1800, 5\n",
    "variables = [pid_B_sim(0.05, 440, 19, 0.1244, 284, 10, t_sim, ts, k, model_type='uncertain', noise=True) for k in range(100, 1100)]\n",
    "nb_patients = 1100 - 100\n",
    "bis = np.zeros((nb_patients, t_sim))\n",
    "drug = np.zeros((nb_patients, 2, t_sim))\n",
    "\n",
    "for i in range(nb_patients):\n",
    "    bis[i] = variables[i][0]\n",
    "    drug[i] = variables[i][1]\n",
    "sleep = np.argmax(bis < 60, axis=1)\n",
    "bis_B = bis\n",
    "drug_B = drug\n",
    "\n",
    "# plotting the BIS\n",
    "mean = np.mean(bis, axis=0)\n",
    "std = np.std(bis, axis=0)\n",
    "plt.figure()\n",
    "time_in_minutes = np.arange(bis.shape[1]) / 60\n",
    "plt.plot(time_in_minutes, mean)\n",
    "plt.fill_between(time_in_minutes, mean - std, mean + std, alpha=0.3)\n",
    "plt.axhline(y=40, linestyle = '--')\n",
    "plt.axhline(y=50, linestyle = '--', color='grey')\n",
    "plt.axhline(y=60, linestyle = '--')\n",
    "plt.axvline(x=sleep.mean()/60, linestyle='--')\n",
    "plt.xlabel('Time (min)')\n",
    "plt.grid(True)\n",
    "plt.tight_layout()"
   ]
  },
  {
   "cell_type": "markdown",
   "metadata": {},
   "source": [
    "## induction phase metrics"
   ]
  },
  {
   "cell_type": "code",
   "execution_count": 69,
   "metadata": {},
   "outputs": [],
   "source": [
    "# time to sleep\n",
    "tts = (sleep)/60\n",
    "tts_mean = tts.mean()\n",
    "tts_std = tts.std()\n",
    "\n",
    "# low bis time\n",
    "index = np.zeros((nb_patients, 600))\n",
    "for i in range(nb_patients):\n",
    "    for j in range(600):\n",
    "        if (bis[i, j] < 40):\n",
    "            index[i, j] = 1\n",
    "lbt = index.sum(axis=1)\n",
    "lbt_mean = lbt.mean()\n",
    "lbt_std = lbt.std()\n",
    "\n",
    "# lower bis value / bis nadir\n",
    "BIS_nadir = bis[:, :600].min(axis=1)\n",
    "BIS_nadir_mean = BIS_nadir.mean()\n",
    "BIS_nadir_std = BIS_nadir.std()\n",
    "\n",
    "# settling time 20\n",
    "st20 = np.zeros(1000)\n",
    "for i in range(1000):\n",
    "    for j in range(600-30):\n",
    "        window = bis[i][j:j+30]\n",
    "        if np.all((window >= 40)) and np.all((window <= 60)):\n",
    "            st20[i] = j\n",
    "            break\n",
    "st20 = st20/60\n",
    "st20_mean = st20.mean()\n",
    "st20_std = st20.std()\n",
    "\n",
    "# settling time 10\n",
    "st10 = np.zeros(1000)\n",
    "for i in range(1000):\n",
    "    for j in range(600-30):\n",
    "        window = bis[i][j:j+30]\n",
    "        if np.all((window >= 45)) and np.all((window <= 55)):\n",
    "            st10[i] = j\n",
    "            break\n",
    "st10 = st10/60\n",
    "st10_mean = st10.mean()\n",
    "st10_std = st10.std()\n",
    "\n",
    "# propo volume\n",
    "weight = []\n",
    "weight += [patient_dic[f'patient_{k}'][4][2] for k in range(100, 1100)]\n",
    "weight = np.array(weight)[:, np.newaxis]\n",
    "propo = np.divide(drug[:, 0, :600], weight).sum(axis=1)\n",
    "propo_mean = propo.mean()\n",
    "propo_std = propo.std()\n",
    "\n",
    "# remi volume\n",
    "remi = np.divide(drug[:, 1, :600], weight).sum(axis=1)\n",
    "remi_mean = remi.mean()\n",
    "remi_std = remi.std()"
   ]
  },
  {
   "cell_type": "code",
   "execution_count": 70,
   "metadata": {},
   "outputs": [
    {
     "name": "stdout",
     "output_type": "stream",
     "text": [
      "\n",
      "      Time to sleep: 0.79 ± 0.16 (in minutes)\n",
      "      Low BIS time: 15.98 ± 40.86 (in minutes)\n",
      "      BIS Nadir: 44.89 ± 6.16 (%)\n",
      "      BIS min: 11.62\n",
      "      Settling Time 20: 1.00 ± 0.68 (in minutes)\n",
      "      Settling Time 10: 1.56 ± 0.91 (in minutes)\n",
      "      Propofol volume: 2.00 ± 0.73 (in mg/kg)\n",
      "      Remifentanil volume: 4.00 ± 1.47 (in μg/kg)\n",
      "\n"
     ]
    }
   ],
   "source": [
    "print(f'''\n",
    "      Time to sleep: {tts_mean:.2f} ± {tts_std:.2f} (in minutes)\n",
    "      Low BIS time: {lbt_mean:.2f} ± {lbt_std:.2f} (in minutes)\n",
    "      BIS Nadir: {BIS_nadir_mean:.2f} ± {BIS_nadir_std:.2f} (%)\n",
    "      BIS min: {bis[:, :600].min():.2f}\n",
    "      Settling Time 20: {st20_mean:.2f} ± {st20_std:.2f} (in minutes)\n",
    "      Settling Time 10: {st10_mean:.2f} ± {st10_std:.2f} (in minutes)\n",
    "      Propofol volume: {propo_mean:.2f} ± {propo_std:.2f} (in mg/kg)\n",
    "      Remifentanil volume: {remi_mean:.2f} ± {remi_std:.2f} (in μg/kg)\n",
    "''')"
   ]
  },
  {
   "cell_type": "markdown",
   "metadata": {},
   "source": [
    "## maintenance phase metrics"
   ]
  },
  {
   "cell_type": "code",
   "execution_count": 71,
   "metadata": {},
   "outputs": [],
   "source": [
    "# Integral Absolute Error\n",
    "IAE = np.sum(np.abs(bis[:, 600:] - 50), axis=1)\n",
    "IAE_mean = IAE.mean()\n",
    "IAE_std = IAE.std()\n",
    "\n",
    "# time out of range 20\n",
    "index = np.zeros((50, t_sim))\n",
    "for i in range(50):\n",
    "    for j in range(600, t_sim):\n",
    "        if (bis[i, j] < 40) or (bis[i, j] > 60):\n",
    "            index[i, j] = 1\n",
    "tor20 = index.sum(axis=1)\n",
    "tor20_mean = tor20.mean()\n",
    "tor20_std = tor20.std()\n",
    "\n",
    "# time out of range 10\n",
    "for i in range(50):\n",
    "    for j in range(600, t_sim):\n",
    "        if (bis[i, j] < 45) or (bis[i, j] > 55):\n",
    "            index[i, j] = 1\n",
    "tor10 = index.sum(axis=1)\n",
    "tor10_mean = tor10.mean()\n",
    "tor10_std = tor10.std()\n",
    "\n",
    "# lower BIS value\n",
    "bis_low = bis[:, 600:].min(axis=1)\n",
    "bis_low_mean = bis_low.mean()\n",
    "bis_low_std = bis_low.std()\n",
    "\n",
    "# higher BIS value\n",
    "bis_high = bis[:, 600:].max(axis=1)\n",
    "bis_high_mean = bis_high.mean()\n",
    "bis_high_std = bis_high.std()\n",
    "\n",
    "# recovery time\n",
    "index = np.zeros((nb_patients, 300))\n",
    "for i in range(nb_patients):\n",
    "    for j in range(600, 900):\n",
    "        if (bis[i, j] < 50):\n",
    "            index[i, j-600] = 1\n",
    "rt = index.sum(axis=1)\n",
    "rt_mean = rt.mean()\n",
    "rt_std = rt.std()\n",
    "\n",
    "# steady state error\n",
    "sse = (np.abs(bis[:, -300:] - 50)).mean(axis=1)\n",
    "sse_mean = sse.mean()\n",
    "sse_std = sse.std()\n",
    "\n",
    "# propo volume\n",
    "weight = []\n",
    "weight += [patient_dic[f'patient_{k}'][4][2] for k in range(100, 1100)]\n",
    "weight = np.array(weight)[:, np.newaxis]\n",
    "propo = np.divide(drug[:, 0, 600:], weight).sum(axis=1)\n",
    "propo_mean = propo.mean()\n",
    "propo_std = propo.std()\n",
    "\n",
    "# remi volume\n",
    "remi = np.divide(drug[:, 1, 600:], weight).sum(axis=1)\n",
    "remi_mean = remi.mean()\n",
    "remi_std = remi.std()"
   ]
  },
  {
   "cell_type": "code",
   "execution_count": 72,
   "metadata": {},
   "outputs": [
    {
     "name": "stdout",
     "output_type": "stream",
     "text": [
      "\n",
      "      IAE: 1859.70 +- 309.12 (CV: 0.17)\n",
      "      Time out of range 20: 23.66 +- 15.78 (in seconds)\n",
      "      Time out of range 10: 118.90 +- 30.96 (in seconds)\n",
      "      BIS low: 39.84 +- 0.66\n",
      "      BIS high: 60.04 +- 0.61\n",
      "      Recovery time: 97.20 +- 58.68 (in seconds)\n",
      "      steady state error: 0.71 +- 0.24\n",
      "      propo vol: 3.00 +- 1.22 (in mg/kg)\n",
      "      remi vol: 5.99 +- 2.44 (in μg/kg)\n",
      "\n"
     ]
    }
   ],
   "source": [
    "print(f'''\n",
    "      IAE: {IAE_mean:.2f} +- {IAE_std:.2f} (CV: {IAE_std/IAE_mean:.2f})\n",
    "      Time out of range 20: {tor20_mean:.2f} +- {tor20_std:.2f} (in seconds)\n",
    "      Time out of range 10: {tor10_mean:.2f} +- {tor10_std:.2f} (in seconds)\n",
    "      BIS low: {bis_low_mean:.2f} +- {bis_low_std:.2f}\n",
    "      BIS high: {bis_high_mean:.2f} +- {bis_high_std:.2f}\n",
    "      Recovery time: {rt_mean:.2f} +- {rt_std:.2f} (in seconds)\n",
    "      steady state error: {sse_mean:.2f} +- {sse_std:.2f}\n",
    "      propo vol: {propo_mean:.2f} +- {propo_std:.2f} (in mg/kg)\n",
    "      remi vol: {remi_mean:.2f} +- {remi_std:.2f} (in μg/kg)\n",
    "''')"
   ]
  },
  {
   "cell_type": "markdown",
   "metadata": {},
   "source": [
    "## worst case performance"
   ]
  },
  {
   "cell_type": "markdown",
   "metadata": {},
   "source": [
    "### induction"
   ]
  },
  {
   "cell_type": "code",
   "execution_count": 73,
   "metadata": {},
   "outputs": [],
   "source": [
    "# max low bis time\n",
    "lbt_max = lbt.max()\n",
    "\n",
    "# minimum bis value recorded\n",
    "bis_min = bis[:, :600].min()\n",
    "\n",
    "# cases below bis = 40\n",
    "index = []\n",
    "for i in range(1000):\n",
    "    if len(bis[i, :600][bis[i, :600] < 40]) > 0:\n",
    "        index.append(1)\n",
    "und_40 = len(index)\n",
    "\n",
    "# cases below bis = 45\n",
    "index = []\n",
    "for i in range(1000):\n",
    "    if len(bis[i, :600][bis[i, :600] < 45]) > 0:\n",
    "        index.append(1)\n",
    "und_45 = len(index)"
   ]
  },
  {
   "cell_type": "code",
   "execution_count": 74,
   "metadata": {},
   "outputs": [
    {
     "name": "stdout",
     "output_type": "stream",
     "text": [
      "\n",
      "      max lbt: 293.00 (in seconds)\n",
      "      bis min: 11.62\n",
      "      cases below 40: 171 cases\n",
      "      cases below 45: 340 cases \n",
      "\n"
     ]
    }
   ],
   "source": [
    "print(f'''\n",
    "      max lbt: {lbt_max:.2f} (in seconds)\n",
    "      bis min: {bis_min:.2f}\n",
    "      cases below 40: {und_40} cases\n",
    "      cases below 45: {und_45} cases \n",
    "''')"
   ]
  },
  {
   "cell_type": "markdown",
   "metadata": {},
   "source": [
    "### maintenance"
   ]
  },
  {
   "cell_type": "code",
   "execution_count": 75,
   "metadata": {},
   "outputs": [],
   "source": [
    "# cases below bis = 40\n",
    "index = []\n",
    "for i in range(1000):\n",
    "    if len(bis[i, 600:][bis[i, 600:] < 40]) > 0:\n",
    "        index.append(1)\n",
    "und_40 = len(index)\n",
    "\n",
    "# cases over bis = 60\n",
    "index = []\n",
    "for i in range(1000):\n",
    "    if len(bis[i, 600:][bis[i, 600:] > 60]) > 0:\n",
    "        index.append(1)\n",
    "ovr_60 = len(index)"
   ]
  },
  {
   "cell_type": "code",
   "execution_count": 76,
   "metadata": {},
   "outputs": [
    {
     "name": "stdout",
     "output_type": "stream",
     "text": [
      "\n",
      "      cases below 40: 580 cases\n",
      "      cases over 60: 508 cases \n",
      "\n"
     ]
    }
   ],
   "source": [
    "print(f'''\n",
    "      cases below 40: {und_40} cases\n",
    "      cases over 60: {ovr_60} cases \n",
    "''')"
   ]
  },
  {
   "cell_type": "markdown",
   "metadata": {},
   "source": [
    "# Input/Output Plot"
   ]
  },
  {
   "cell_type": "code",
   "execution_count": 77,
   "metadata": {},
   "outputs": [
    {
     "data": {
      "image/png": "[encoded data removed]",
      "text/plain": [
       "<Figure size 640x480 with 2 Axes>"
      ]
     },
     "metadata": {},
     "output_type": "display_data"
    }
   ],
   "source": [
    "time_in_minutes = np.arange(bis.shape[1]) / 60\n",
    "mean_A, std_A = bis_A.mean(axis=0), bis_A.std(axis=0)\n",
    "mean_B, std_B = bis_B.mean(axis=0), bis_B.std(axis=0)\n",
    "propo_A, remi_A = drug_A[:, 0, :], drug_A[:, 1, :]\n",
    "mean_propo_A, std_propo_A = propo_A.mean(axis=0), propo_A.std(axis=0)\n",
    "mean_remi_A, std_remi_A = remi_A.mean(axis=0), remi_A.std(axis=0)\n",
    "propo_B, remi_B = drug_B[:, 0, :], drug_B[:, 1, :]\n",
    "mean_propo_B, std_propo_B = propo_B.mean(axis=0), propo_B.std(axis=0)\n",
    "mean_remi_B, std_remi_B = remi_B.mean(axis=0), remi_B.std(axis=0)\n",
    "\n",
    "plt.subplot(2, 1, 1)\n",
    "plt.ylim(0, 6)\n",
    "plt.plot(time_in_minutes, mean_propo_A, label='$u_p$, Controller A')\n",
    "plt.fill_between(time_in_minutes, mean_propo_A - std_propo_A, mean_propo_A + std_propo_A, alpha=0.3)\n",
    "plt.plot(time_in_minutes, mean_remi_A, label='$u_r$, Controller A')\n",
    "plt.fill_between(time_in_minutes, mean_remi_A - std_remi_A, mean_remi_A + std_remi_A, alpha=0.3)\n",
    "plt.plot(time_in_minutes, mean_propo_B, '--', label='$u_p$, Controller B')\n",
    "plt.fill_between(time_in_minutes, mean_propo_B - std_propo_B, mean_propo_B + std_propo_B, alpha=0.3)\n",
    "plt.plot(time_in_minutes, mean_remi_B, '--', label='$u_r$, Controller B')\n",
    "plt.fill_between(time_in_minutes, mean_remi_B - std_remi_B, mean_remi_B + std_remi_B, alpha=0.3)\n",
    "plt.grid(True)\n",
    "plt.legend(fontsize='large')\n",
    "plt.ylabel('Infusion Rate')\n",
    "plt.subplot(2, 1, 2)\n",
    "plt.axhline(y=50, linestyle='--', color='grey')\n",
    "plt.plot(time_in_minutes, mean_A, label='Controller A')\n",
    "plt.fill_between(time_in_minutes, mean_A - std_A, mean_A + std_A, alpha=0.3)\n",
    "plt.plot(time_in_minutes, mean_B, linestyle='--', label='Controller B')\n",
    "plt.fill_between(time_in_minutes, mean_B - std_B, mean_B + std_B, alpha=0.3)\n",
    "plt.grid(True)\n",
    "plt.legend(fontsize='large')\n",
    "plt.xlabel('Time (min)')\n",
    "plt.ylabel('BIS (%)')\n",
    "plt.tight_layout()\n",
    "# plt.savefig('output.pdf', bbox_inches='tight')"
   ]
  }
 ],
 "metadata": {
  "kernelspec": {
   "display_name": "Python 3",
   "language": "python",
   "name": "python3"
  },
  "language_info": {
   "codemirror_mode": {
    "name": "ipython",
    "version": 3
   },
   "file_extension": ".py",
   "mimetype": "text/x-python",
   "name": "python",
   "nbconvert_exporter": "python",
   "pygments_lexer": "ipython3",
   "version": "3.10.2"
  }
 },
 "nbformat": 4,
 "nbformat_minor": 2
}
